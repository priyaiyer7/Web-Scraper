{
 "cells": [
  {
   "cell_type": "markdown",
   "metadata": {},
   "source": [
    "### Web Scraper - Bus Prices"
   ]
  },
  {
   "cell_type": "code",
   "execution_count": 1,
   "metadata": {},
   "outputs": [],
   "source": [
    "from selenium import webdriver\n",
    "from selenium.webdriver.support.ui import WebDriverWait \n",
    "from selenium.webdriver.support import expected_conditions\n",
    "from bs4 import BeautifulSoup\n",
    "import re\n",
    "import pandas as pd\n",
    "import numpy as np\n",
    "import time\n",
    "import datetime\n",
    "from datetime import datetime, timedelta "
   ]
  },
  {
   "cell_type": "code",
   "execution_count": null,
   "metadata": {},
   "outputs": [],
   "source": [
    "origin = 'Boston'\n",
    "destination = 'New York'\n",
    "startdate = \"2020-01-20\"\n",
    "#enddate = \"2020-12-14\"\n",
    "num = 1\n",
    "code = \"dr5reg/drt2yz\"\n",
    "#url  = \"https://www.busbud.com/en-gb/bus-schedules-results/dr5r8p/dr5reg?outbound_date=2020-08-04&return_date=2020-08-11&adults=1\""
   ]
  },
  {
   "cell_type": "code",
   "execution_count": null,
   "metadata": {},
   "outputs": [],
   "source": [
    "url = \"https://www.busbud.com/en-gb/bus-schedules-results/\" +  code + \"?outbound_date\" + \"=\"+ startdate + \"&adults=1\""
   ]
  },
  {
   "cell_type": "code",
   "execution_count": null,
   "metadata": {},
   "outputs": [],
   "source": [
    "from selenium import webdriver\n",
    "from webdriver_manager.chrome import ChromeDriverManager\n",
    "\n",
    "driver = webdriver.Chrome(ChromeDriverManager().install())\n",
    "driver.implicitly_wait(20)\n",
    "driver.get(url)"
   ]
  },
  {
   "cell_type": "code",
   "execution_count": null,
   "metadata": {},
   "outputs": [],
   "source": [
    "\n",
    "soup=BeautifulSoup(driver.page_source, 'lxml')\n",
    "\n",
    "times = soup.find_all('strong', attrs={'class': 'd-inline-block text-std text-right'})\n",
    "price = soup.find_all('div', attrs={'class': 'departure-card--price text-right font-weight-bold'})\n",
    "bus_coach = soup.find_all('div', attrs={'class': 'departure-card--logo'})\n",
    "    \n",
    "time = []\n",
    "for div in times:\n",
    "    time.append(div.getText())    \n",
    "          \n",
    "price_ = []\n",
    "for div in price:\n",
    "    price_.append(div.getText())  \n",
    "        \n",
    "time = np.asarray(time)\n",
    "time = time.reshape(int(len(time)/2), 2)\n",
    "    \n",
    "price_ = np.asarray(price_) \n",
    "\n",
    "bus_company =[]\n",
    "for i in bus_coach:\n",
    "    bus_company.append(i.img['alt'])"
   ]
  },
  {
   "cell_type": "code",
   "execution_count": null,
   "metadata": {},
   "outputs": [],
   "source": [
    "data_prices = pd.DataFrame({\"origin\" : origin,\n",
    "                   \"destination\" : destination,\n",
    "                   \"startdate\" : startdate,\n",
    "                   \"price\": price_,\n",
    "                   \"deptime\": time[:,0],\n",
    "                   \"arrtime\" : time[:,1],\n",
    "                   \"currency\": \"USD\",\n",
    "                   \"bus_coach\":bus_company,\n",
    "                   \"passengers\" :  num\n",
    "                   })"
   ]
  }
 ],
 "metadata": {
  "kernelspec": {
   "display_name": "Python 3",
   "language": "python",
   "name": "python3"
  },
  "language_info": {
   "codemirror_mode": {
    "name": "ipython",
    "version": 3
   },
   "file_extension": ".py",
   "mimetype": "text/x-python",
   "name": "python",
   "nbconvert_exporter": "python",
   "pygments_lexer": "ipython3",
   "version": "3.7.3"
  }
 },
 "nbformat": 4,
 "nbformat_minor": 2
}
